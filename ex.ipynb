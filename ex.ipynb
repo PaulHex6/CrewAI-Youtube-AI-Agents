{
 "cells": [
  {
   "cell_type": "code",
   "execution_count": 1,
   "metadata": {},
   "outputs": [],
   "source": [
    "# Before running this script, ensure FFmpeg is installed and added to your system's PATH.\n",
    "# Alternatively, you can specify the location of FFmpeg in the script using the 'ffmpeg_location' option.\n",
    "# For Windows users, download FFmpeg from https://ffmpeg.org/download.html and add the 'bin' folder to the PATH.\n",
    "\n",
    "from crewai_tools import tool\n",
    "import yt_dlp\n",
    "import whisper\n",
    "#import imageio_ffmpeg\n",
    "\n",
    "# @tool(\"Audio Transribe tool\")\n",
    "def audio_transcriber_tool(url):\n",
    "    \"\"\"\n",
    "    Extracts audio and transcribes the audio from a YouTube video given its URL and summarizes it.\n",
    "\n",
    "    Parameters:\n",
    "    - url (str): The URL of the YouTube video from which audio will be extracted.\n",
    "\n",
    "    Returns:\n",
    "    str: A string containing:\n",
    "        - The summarized version of the Transcribed Youtube URL\n",
    "    \"\"\"\n",
    "    \n",
    "    # Use yt-dlp to download the audio from the YouTube video\n",
    "    ydl_opts = {\n",
    "        'format': 'bestaudio/best',  # Download the best available audio\n",
    "        'postprocessors': [{\n",
    "            'key': 'FFmpegExtractAudio',\n",
    "            'preferredcodec': 'mp3',  # Extract as mp3\n",
    "            'preferredquality': '192',  # Audio quality\n",
    "        }],\n",
    "        'outtmpl': 'audio_file',  # Output filename\n",
    "        #'ffmpeg_location': imageio_ffmpeg.get_ffmpeg_exe()  # Use imageio-ffmpeg to get the ffmpeg binary\n",
    "    }\n",
    "\n",
    "    with yt_dlp.YoutubeDL(ydl_opts) as ydl:\n",
    "        ydl.download([url])  # Download the audio from the URL\n",
    "\n",
    "    # Load the Whisper model\n",
    "    whisper_model = whisper.load_model(\"small\")\n",
    "    \n",
    "    # Transcribe the downloaded audio file\n",
    "    result = whisper_model.transcribe(\"audio_file.mp3\")\n",
    "    \n",
    "    return result[\"text\"]"
   ]
  },
  {
   "cell_type": "code",
   "execution_count": 2,
   "metadata": {},
   "outputs": [
    {
     "name": "stdout",
     "output_type": "stream",
     "text": [
      "[youtube] Extracting URL: https://www.youtube.com/watch?v=VtUPkYfw8HY\n",
      "[youtube] VtUPkYfw8HY: Downloading webpage\n",
      "[youtube] VtUPkYfw8HY: Downloading ios player API JSON\n",
      "[youtube] VtUPkYfw8HY: Downloading web creator player API JSON\n",
      "[youtube] VtUPkYfw8HY: Downloading m3u8 information\n",
      "[info] VtUPkYfw8HY: Downloading 1 format(s): 251\n",
      "[download] audio_file has already been downloaded\n",
      "[download] 100% of    3.29MiB\n",
      "[ExtractAudio] Destination: audio_file.mp3\n",
      "Deleting original file audio_file (pass -k to keep)\n"
     ]
    },
    {
     "name": "stderr",
     "output_type": "stream",
     "text": [
      "c:\\Python_my\\Hackathon MindsDb\\Podcast_summarizer_Agents\\venv\\lib\\site-packages\\whisper\\__init__.py:146: FutureWarning: You are using `torch.load` with `weights_only=False` (the current default value), which uses the default pickle module implicitly. It is possible to construct malicious pickle data which will execute arbitrary code during unpickling (See https://github.com/pytorch/pytorch/blob/main/SECURITY.md#untrusted-models for more details). In a future release, the default value for `weights_only` will be flipped to `True`. This limits the functions that could be executed during unpickling. Arbitrary objects will no longer be allowed to be loaded via this mode unless they are explicitly allowlisted by the user via `torch.serialization.add_safe_globals`. We recommend you start setting `weights_only=True` for any use case where you don't have full control of the loaded file. Please open an issue on GitHub for any issues related to this experimental feature.\n",
      "  checkpoint = torch.load(fp, map_location=device)\n",
      "c:\\Python_my\\Hackathon MindsDb\\Podcast_summarizer_Agents\\venv\\lib\\site-packages\\whisper\\transcribe.py:115: UserWarning: FP16 is not supported on CPU; using FP32 instead\n",
      "  warnings.warn(\"FP16 is not supported on CPU; using FP32 instead\")\n"
     ]
    },
    {
     "data": {
      "text/plain": [
       "' Dziś o tym, co endokronology wiedzą o otyłości. Zapraszam do oglądania tego odcinka. Cześć, to do Dr. Kuba. Witam Ci na moim kanale, do Dr. Kuba Odchudza. A powiem Cię, dziś o odchudzaniu inaczej. Dziś chciałbym podsumować i krótko opowiedzieć o zmianach hormonalnych występujących otyłości. Stają sobie sprawią, że temat hormonów i ich roli związane jest nad wagą otyłością zdałabym wyczerpać niejedną pracę doktorską. I zwłaszcza jest trudne dla osób, które dopiero spoczynają swoją drogę ku odchudzaniu. Ilość informacji, którą muszą przyswoić, może ich po prostu przytłoczyć. Dlatego postanowiłem dziś po krótce podsumować najważniejsze hormony oraz ich wpływ na przybieranie na radzę. Mam nadzieję, że to krótkie zestawienie pozwoli lepiej zrozumieć hormony i ich rolę. Zatem zaczynajmy. Testosteron. Testosteron pobudza lipolizę, a zmniejsza lipogenezę i adipogenezę. W mięsiach powoduje wbudowywanie białek, co daje przyrozmasy mięśniowej. U mężczyz otyłością jego poziom spada, u kobiet otyłością jego poziom zasta. Estrogeny. Estrogeny pobudzają gromadzenie tłuszczu pod skórą, ale chronią przed odkładaniem się tłuszczu brzusznego. Zmieszają wydzielanie neuropeptydu Y i działanie greliny. Zwiększają wydzielanie leptyny oraz wrażliwość na leptyne, nasilają działanie cholecysto-kininy. W otyłościu poziom spada. Peptid Y Y. Hamuje apetyd i motorykę Wielity. Nasilę termogenezem poposiłkową. W otyłościu jego poziom spada. Hormont wzrostu. Podnosi poziom glukozy. Pobudza rozkład tłuszczu i budowy białek. Otyłości jego poziom jest normalny lub spada. Leptyna hamuje apetyt w otyłości poziom wzrasta. Insulina. W mięśniach szkieletowych insulina powoduje zużywanie i magaznowanie glukozy w formie glikogenu. W koncert tłuszczowej hamuje lipolyseum, a zwiększa lipogenezem. Otyłości jej poziom jest wysokim. Zanim przejdę dalej, mam do ciebie prośbę tradycyjnie. Jeśli spodoba Ci się film i zainteresują Cię tematy, które poruszam, może oczywiście kanał zalaikować, ręka w górę z umiesiennym kciukiem. Możecie go też zasubskrybować, do czego zawsze nas gorąco zachęcam. A teraz wracam do tematu. Grelina. Pobudza łaknienie w otyłości poziom zniski. Oba statyna hamuje głód w otyłości poziom zniski. Kortyzol nasina rozpad biały i drój liceridów oraz nasila gluko-neogenesem i glikogenolizm. W otyłości jego poziom jest normalny lub wysokim. Cholecistokinin hamuje apetyt i w otyłości poziom zniski. A typonektyna w tkance bieśniowej pobudza wychwyt i zróbcie glukozy oraz betaoksytację kwasów tłuszczowych wątrobie. Zwiększa również insulina wrażliwość, zmniejsza gluko-neogenesem oraz syntezem glukozy i zwiększa betaoksytację kwasów tłuszczowych. W otyłości jej poziom jest niski. Hormonetarczycy pobudzają lipolizę, adipogenesę i rozpadkanki tłuszczowej. Poziom TSH w otyłości jest normalny lub wysoki, a wolnego FTE4 też normalne lub niski. I tak oto doszliśmy do końca dzisiejszego spotkania. Dziękuję za wspólnie spędzony czas. Zapraszam do subskrybowania tego kanału i zachęcam do kliknięcia w dzwoneczek w ramach udostępnienia tych materiałów. Napiszcie w komentarzach o swoich doświadczeniach, znowacimi pytania, na kilka z nich postaram się odpowiedzieć w kolejnych odcinkach. Do zobaczenia wkrótce. Cześć! A spódajcie się z głową!'"
      ]
     },
     "execution_count": 2,
     "metadata": {},
     "output_type": "execute_result"
    }
   ],
   "source": [
    "audio_transcriber_tool(\"https://www.youtube.com/watch?v=VtUPkYfw8HY\")"
   ]
  },
  {
   "cell_type": "code",
   "execution_count": null,
   "metadata": {},
   "outputs": [],
   "source": []
  }
 ],
 "metadata": {
  "kernelspec": {
   "display_name": "base",
   "language": "python",
   "name": "python3"
  },
  "language_info": {
   "codemirror_mode": {
    "name": "ipython",
    "version": 3
   },
   "file_extension": ".py",
   "mimetype": "text/x-python",
   "name": "python",
   "nbconvert_exporter": "python",
   "pygments_lexer": "ipython3",
   "version": "3.10.0"
  }
 },
 "nbformat": 4,
 "nbformat_minor": 2
}
