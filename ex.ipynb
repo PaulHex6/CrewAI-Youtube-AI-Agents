{
 "cells": [
  {
   "cell_type": "code",
   "execution_count": 9,
   "metadata": {},
   "outputs": [],
   "source": [
    "from crewai_tools import tool\n",
    "import yt_dlp\n",
    "import whisper\n",
    "\n",
    "# @tool(\"Audio Transribe tool\")\n",
    "def audio_transcriber_tool(url):\n",
    "    \"\"\"\n",
    "    Extracts audio and transcribes the audio from a YouTube video given its URL and summarizes it.\n",
    "\n",
    "    Parameters:\n",
    "    - url (str): The URL of the YouTube video from which audio will be extracted.\n",
    "\n",
    "    Returns:\n",
    "    str: A string containing:\n",
    "        - The summarized version of the Transcribed Youtube URL\n",
    "    \"\"\"\n",
    "    \n",
    "    # Use yt-dlp to download the audio from the YouTube video\n",
    "    ydl_opts = {\n",
    "        'format': 'bestaudio/best',  # Download the best available audio\n",
    "        'postprocessors': [{\n",
    "            'key': 'FFmpegExtractAudio',\n",
    "            'preferredcodec': 'mp3',  # Extract as mp3\n",
    "            'preferredquality': '192',  # Audio quality\n",
    "        }],\n",
    "        'outtmpl': 'audio_file'  # Output filename\n",
    "    }\n",
    "\n",
    "    with yt_dlp.YoutubeDL(ydl_opts) as ydl:\n",
    "        ydl.download([url])  # Download the audio from the URL\n",
    "\n",
    "    # Load the Whisper model\n",
    "    whisper_model = whisper.load_model(\"small\")\n",
    "    \n",
    "    # Transcribe the downloaded audio file\n",
    "    result = whisper_model.transcribe(\"audio_file.mp3\")\n",
    "    \n",
    "    return result[\"text\"]"
   ]
  },
  {
   "cell_type": "code",
   "execution_count": 10,
   "metadata": {},
   "outputs": [
    {
     "name": "stdout",
     "output_type": "stream",
     "text": [
      "[youtube] Extracting URL: https://www.youtube.com/watch?v=8PGxUluL3gc\n",
      "[youtube] 8PGxUluL3gc: Downloading webpage\n",
      "[youtube] 8PGxUluL3gc: Downloading ios player API JSON\n",
      "[youtube] 8PGxUluL3gc: Downloading android player API JSON\n"
     ]
    },
    {
     "name": "stderr",
     "output_type": "stream",
     "text": [
      "WARNING: [youtube] YouTube said: ERROR - Precondition check failed.\n",
      "WARNING: [youtube] HTTP Error 400: Bad Request. Retrying (1/3)...\n"
     ]
    },
    {
     "name": "stdout",
     "output_type": "stream",
     "text": [
      "[youtube] 8PGxUluL3gc: Downloading android player API JSON\n"
     ]
    },
    {
     "name": "stderr",
     "output_type": "stream",
     "text": [
      "WARNING: [youtube] YouTube said: ERROR - Precondition check failed.\n",
      "WARNING: [youtube] HTTP Error 400: Bad Request. Retrying (2/3)...\n"
     ]
    },
    {
     "name": "stdout",
     "output_type": "stream",
     "text": [
      "[youtube] 8PGxUluL3gc: Downloading android player API JSON\n"
     ]
    },
    {
     "name": "stderr",
     "output_type": "stream",
     "text": [
      "WARNING: [youtube] YouTube said: ERROR - Precondition check failed.\n",
      "WARNING: [youtube] HTTP Error 400: Bad Request. Retrying (3/3)...\n"
     ]
    },
    {
     "name": "stdout",
     "output_type": "stream",
     "text": [
      "[youtube] 8PGxUluL3gc: Downloading android player API JSON\n"
     ]
    },
    {
     "name": "stderr",
     "output_type": "stream",
     "text": [
      "WARNING: [youtube] YouTube said: ERROR - Precondition check failed.\n",
      "WARNING: [youtube] Unable to download API page: HTTP Error 400: Bad Request (caused by <HTTPError 400: Bad Request>); please report this issue on  https://github.com/yt-dlp/yt-dlp/issues?q= , filling out the appropriate issue template. Confirm you are on the latest version using  yt-dlp -U\n"
     ]
    },
    {
     "name": "stdout",
     "output_type": "stream",
     "text": [
      "[youtube] 8PGxUluL3gc: Downloading player 5f8f5b0f\n"
     ]
    },
    {
     "name": "stderr",
     "output_type": "stream",
     "text": [
      "WARNING: [youtube] 8PGxUluL3gc: nsig extraction failed: You may experience throttling for some formats\n",
      "         n = i4-eNcuSWO-sM4FPb ; player = https://www.youtube.com/s/player/5f8f5b0f/player_ias.vflset/en_US/base.js\n",
      "WARNING: [youtube] 8PGxUluL3gc: nsig extraction failed: You may experience throttling for some formats\n",
      "         n = 3b97mj-efX4RzrSJX ; player = https://www.youtube.com/s/player/5f8f5b0f/player_ias.vflset/en_US/base.js\n"
     ]
    },
    {
     "name": "stdout",
     "output_type": "stream",
     "text": [
      "[youtube] 8PGxUluL3gc: Downloading m3u8 information\n",
      "[info] 8PGxUluL3gc: Downloading 1 format(s): 140\n",
      "[download] Destination: audio_file.mp3\n",
      "[download] 100% of   11.66MiB in 00:00:00 at 19.38MiB/s  \n",
      "[FixupM4a] Correcting container of \"audio_file.mp3\"\n",
      "[ExtractAudio] Destination: audio_file.mp3.mp3\n",
      "Deleting original file audio_file.mp3 (pass -k to keep)\n"
     ]
    },
    {
     "name": "stderr",
     "output_type": "stream",
     "text": [
      "/Users/siddartha/miniforge3/lib/python3.12/site-packages/whisper/__init__.py:146: FutureWarning: You are using `torch.load` with `weights_only=False` (the current default value), which uses the default pickle module implicitly. It is possible to construct malicious pickle data which will execute arbitrary code during unpickling (See https://github.com/pytorch/pytorch/blob/main/SECURITY.md#untrusted-models for more details). In a future release, the default value for `weights_only` will be flipped to `True`. This limits the functions that could be executed during unpickling. Arbitrary objects will no longer be allowed to be loaded via this mode unless they are explicitly allowlisted by the user via `torch.serialization.add_safe_globals`. We recommend you start setting `weights_only=True` for any use case where you don't have full control of the loaded file. Please open an issue on GitHub for any issues related to this experimental feature.\n",
      "  checkpoint = torch.load(fp, map_location=device)\n",
      "/Users/siddartha/miniforge3/lib/python3.12/site-packages/whisper/transcribe.py:126: UserWarning: FP16 is not supported on CPU; using FP32 instead\n",
      "  warnings.warn(\"FP16 is not supported on CPU; using FP32 instead\")\n"
     ]
    },
    {
     "data": {
      "text/plain": [
       "\" Hey, I'm Abay. I'm one of the engineers behind Poly. Poly is a brand new cloud file storage application for managing your personal files and media. You can think of it as a one-of-a-kind marriage between a file browser for viewing your content and a file hosting platform for storing your content. So that means it has all the same speed and nativeness as a desktop application like Finder on Mac and File Explorer on Windows while still being fully cross-platform and based in the cloud. With Poly, we want to modernize file storage, solving some of the key challenges we've seen with applications over the years. For one, we think there should be no compromises in the interface, regardless of whether you're on desktop, web, or real platform you're on. No more dealing with those clunky, slow, broken web UIs that are just not as powerful as a desktop application. No more dealing with those endless sync conflicts that drain your battery, or no more dealing with those frustrating menus and sharing and invites just to be able to share some content. Secondly, you should be able to add rich, collaborative metadata to all the files in your file system so that you don't have to maintain a separate spreadsheet or documents or use complicated file naming or folder structures just to be able to organize the content in your file system. Thirdly and most importantly, your file system should have the power of artificial intelligence to be able to search, sort, discover, and organize your stuff, to be able to ask in casual, easy, natural language, to be able to reference your media like your images and your videos, to be able to support a much wider variety of intents such as sorting and organizing. Over time, we think Poly can become a sort of search engine for your life rather than just a container for your files. So I'm super excited to give you a sneak peek at our beta that's coming soon, so let's dive right in. So here we are at my desk. I'm going to show you some of the features of Poly and one of the things we're doing right now is a landing page redesign. So I'm going to try using Poly to look for images for that. Showing the UI, you can see it looks like mostly like a normal file browser. I can add content. I can rename things. And it all works pretty seamlessly how you'd expect. Now one of the nice things about Poly is that that interface is really identical between desktop and web and all the features are there regardless of the platform. So let's try opening up a file browser and I can show you that everything looks pretty much the same on both surfaces, right? You see the same exact features adding and removing things works the exact same way. Let's go ahead and drag and drop some files into here. I have this folder of images I just created with Flux, which is a new image gen model that just got released. And I'm super excited to take a look at some of what it can do. So while it's uploading here, let me just minimize that and go back to our desktop. Now I can also maximize this. So as I mentioned before, Poly's application is real time synced between all surfaces. So if I go into that same folder, I can see that the Flux SD content is actually already there. Now just as an aside, I think we get a lot of questions from people that look at this and say, that's great, but isn't it just browsing your local file system? In fact, it's actually not. It's syncing everything back to the cloud and it's using some pretty clever mechanisms to make it seem like everything is fully native no matter what surface you're on. So here I am back browsing some of those images. Now I want to give you a peek at some of the different view modes here. So using this icon view is great, but what if I want to look at stuff differently? So let's go back to our home directory and show you some of these view modes. In this view mode panel, I can use something like a column view, which some of you that are Mac users might be more familiar with. And then I can also use what we call TreeView, which is useful and maybe familiar to folks on Windows and Linux. It lets you open multiple folders at once, something that is really useful for when you're doing a lot of nested directory stuff. So let's go back to icon view and let's go back into that folder of stuff that we just uploaded. Now I really want to look at some of this content and I really want to get a view of what's in this folder, but looking at just the icons and super satisfying. So let's use a different view mode and see what we can do. So here's grid view, which allows me to look at everything as a grid. And here's feed view, which allows me to look at really the dimensionality of the images. And just zooming in here, let me go ahead and remove the left sidebar. And yeah, there you go. Here's a great image browser built into Poly that allows you to really admire and browse all your stuff. You can see that with each of these images, I can not only see them in this view, but I can also quickly peek them. And then I can also keyboard navigate while I'm peeking. But let's take a look at the waterfall view. So waterfall view lets me look at these objects in aggregate and just clicking to them just to find what I like. Just as a final thing on this view mode, as I mentioned before, Poly has great support for metadata. So let me just open the detail panel here. The detail panel shows us some of the metadata. And as you can see for all these images, which were generated using AI, that Poly actually was able to index the generation data, not only the prompt, but the source, the seed, and of course the exit data if it has some. And you can see that it contains that for all the images that were generated here. Now let's go to the landing page that we're trying to design. Now I can obviously use some of these rich browsing capabilities to find some images from my landing page, but let's do one better than that. Let's actually use the search to find that content for me. So let me just go back to my icon view here. I'm looking for architecture images that were generated from the last seven days because I know that's when I was doing a bunch of image gen. So instead of looking for that manually, I'll just type that in here. Architecture images from the last seven days. And what this is doing is it's not just looking for the word architecture, but it's also searching for images that are more architectural. So here you can see this gave us some great architecture results, some cool images. But what I'm really looking for is a particular one. It's an image that I generated a little while ago and I remember generating a bunch of them, but I can't remember exactly where I put it. And I see some of them here. So here's an example of that image. And I'm trying to look for more of that. So what's the easiest way to do that? Well, let me just quickly pin this. And maybe I want to search for images that are similar to that. And still architecture images from the last seven days. So as you can see, I've added the image to the search and Poly natively supports dragging and dropping your files into the search bar. And in a couple of moments, you can see here that it gave us all the images that were generated using that same kind of style of prompt. And they're all very similar to each other. And so Poly's just been able to do a great job of sifting through that content with us. So the last thing I want to do is share with you another great feature of Poly that a lot of image gen enthusiasts have really asked for, which is comparing content. So I want to go in and compare some of these files that are in my search result and see exactly what's different about them. So opening up this view modes pane, let's go to detail view. And let's go ahead and make it so there's three items per row. And let's add my prompt here so that I can really see that make that large. And let's go ahead and remove the creation date and the name. So I really just care about the prompt and maybe I'll add some tags in case there are tags here. So now I can see that I can actually pretty quickly go through and assess what's different about these different images. I can obviously peek them and look at their metadata inside of my peak view. But a lot of these have very similar prompts and I really don't know what's different about them. What I can do is actually side by side, open them up in peak view as well. And that allows me to see them both. And then I can highlight the differences between these prompts. And you can see here, it looks like the main difference is just this one word here, which would have been really difficult for me to tell if I didn't have this. So there you have it. And maybe the final thing I'll do is just save this search here so I can save my searches to my sidebar. And now I have it for use later. So there you have it. That was a quick view of Pauli's browsing, searching, viewing capabilities. And it helped me locate the perfect kind of style for the landing page image I'm looking for. The last thing I want to do is just get Samuel on the phone and we're going to collaborate on a shared folder. Hey, Samuel. Hey. Hey, how's it going? So I took a look at some of those architecture images we were talking about. I just searched for them and found a couple of examples that might work for our landing page. How about I just go ahead and share some of those with you? So I'm going to go ahead and create a shared folder. Shared folders are just a simple way of creating a place for you to put content that you can share with either your friends or publicly. Let's call it Pauli Landing Page. And then let's name it Landing Page Redesign. Cool. So I've just created the shared folder. I'm going to go ahead and add Samuel. Cool. So just added Samuel. Let's go ahead and go back to those images I was taking a look at. And let me just find the ones I was excited about and I'll paste those in for you. I'll just shift select some of them. Samuel, why don't you tag the ones that you like? And then we can work with those. Samuel's tagging some of the files that he liked. The last thing that I want to do with this, if supposing we wanted to share this stuff publicly, maybe get review from other folks, I can go ahead and just switch this from private to public. So let me just open a new browser tab and I'll show you what that looks like. And I'll paste the name of that folder and boom. So you can see that just as an anonymous user, I can still go and look at some of these items. So this is a great way to share your stuff publicly if you want to showcase your portfolio or maybe create a prompt collaborative prompt book for you and some other folks or if you just don't want people to have to log in. So Polly's got a lot of great features for collaboration as well. And the best part is that all those same search features are actually available to the public. So if you share something publicly, they can use those same searches as well. So that was an early view of Polly's browsing, search and sharing capabilities. In the coming months, we're going to keep making Polly even better. We're going to be adding support for searching more media types like audio, video and PDFs that will be fully integrated into our intelligence search. We'll also be making the search itself more powerful with the ability to give you more kinds of answers about your files and the ability to take multi-step actions. We're going to be adding integrations to cloud services to be able to download your content, services like Dropbox and OneDrive. We also want to give you the ability to sync your content from GenAI services like Suno, Mid Journey and ChatGBT. And lastly, we're going to keep making Polly the world's most robust, most performant and most reliable cloud storage provider that gives you the confidence to trust it with your files. If you're excited by what you see here, you can always join the waitlist at withpolly.com. And if you want to share your thoughts, you can just hop into our Discord and let us know what you want to see. We're going to keep letting more and more people into that beta every day, and we can't wait to make it available to you.\""
      ]
     },
     "execution_count": 10,
     "metadata": {},
     "output_type": "execute_result"
    }
   ],
   "source": [
    "audio_transcriber_tool(\"https://www.youtube.com/watch?v=8PGxUluL3gc\")"
   ]
  },
  {
   "cell_type": "code",
   "execution_count": null,
   "metadata": {},
   "outputs": [],
   "source": []
  }
 ],
 "metadata": {
  "kernelspec": {
   "display_name": "base",
   "language": "python",
   "name": "python3"
  },
  "language_info": {
   "codemirror_mode": {
    "name": "ipython",
    "version": 3
   },
   "file_extension": ".py",
   "mimetype": "text/x-python",
   "name": "python",
   "nbconvert_exporter": "python",
   "pygments_lexer": "ipython3",
   "version": "3.12.0"
  }
 },
 "nbformat": 4,
 "nbformat_minor": 2
}
