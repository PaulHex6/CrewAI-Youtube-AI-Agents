{
  "nbformat": 4,
  "nbformat_minor": 0,
  "metadata": {
    "colab": {
      "provenance": [],
      "gpuType": "T4"
    },
    "kernelspec": {
      "name": "python3",
      "display_name": "Python 3"
    },
    "language_info": {
      "name": "python"
    },
    "accelerator": "GPU"
  },
  "cells": [
    {
      "cell_type": "markdown",
      "source": [
        "The `get_youtube_transcription` function attempts to retrieve subtitles from a YouTube video URL in any available language, preferring manually created subtitles over auto-generated ones.\n",
        "\n",
        "**If no subtitles are available**, the function downloads the audio from the YouTube video and uses OpenAI's Whisper model to transcribe it.\n"
      ],
      "metadata": {
        "id": "HC7AY-BNt9Ka"
      }
    },
    {
      "cell_type": "code",
      "execution_count": null,
      "metadata": {
        "id": "rligCATufXwO"
      },
      "outputs": [],
      "source": [
        "# Install required libraries\n",
        "!pip install yt-dlp\n",
        "#!pip install whisper\n",
        "!pip install git+https://github.com/openai/whisper.git\n",
        "!pip install openai\n",
        "!pip install youtube_transcript_api\n",
        "\n",
        "import os\n",
        "import yt_dlp\n",
        "import whisper\n",
        "import openai\n",
        "import time"
      ]
    },
    {
      "cell_type": "code",
      "source": [
        "def get_youtube_transcription(url: str) -> str:\n",
        "    \"\"\"\n",
        "    Check if YouTube has subtitles available for a given URL and download them in any available language.\n",
        "\n",
        "    Parameters:\n",
        "    - url (str): The URL of the YouTube video.\n",
        "\n",
        "    Returns:\n",
        "    str: The subtitles if available, otherwise None.\n",
        "    \"\"\"\n",
        "    from youtube_transcript_api import YouTubeTranscriptApi\n",
        "    from youtube_transcript_api._errors import (\n",
        "        NoTranscriptFound,\n",
        "        TranscriptsDisabled,\n",
        "        VideoUnavailable,\n",
        "    )\n",
        "    import urllib.parse\n",
        "\n",
        "    # Helper function to extract video ID\n",
        "    def extract_video_id(url):\n",
        "        # Parse URL\n",
        "        parsed_url = urllib.parse.urlparse(url)\n",
        "        hostname = parsed_url.hostname.lower() if parsed_url.hostname else ''\n",
        "        if 'youtu.be' in hostname:\n",
        "            # Shortened URL format\n",
        "            return parsed_url.path[1:]\n",
        "        elif 'youtube.com' in hostname:\n",
        "            if parsed_url.path == '/watch':\n",
        "                # URL with 'v' parameter\n",
        "                query = urllib.parse.parse_qs(parsed_url.query)\n",
        "                return query.get('v', [None])[0]\n",
        "                return query.get('v', [None])[0]\n",
        "            elif parsed_url.path.startswith(('/embed/', '/v/')):\n",
        "                return parsed_url.path.split('/')[2]\n",
        "        return None\n",
        "\n",
        "    video_id = extract_video_id(url)\n",
        "    if not video_id:\n",
        "        return None  # Could not extract video ID\n",
        "\n",
        "    try:\n",
        "        # Get list of available transcripts\n",
        "        transcript_list = YouTubeTranscriptApi.list_transcripts(video_id)\n",
        "\n",
        "        # Separate manually created and generated transcripts\n",
        "        manually_created_transcripts = []\n",
        "        generated_transcripts = []\n",
        "\n",
        "        for transcript in transcript_list:\n",
        "            if not transcript.is_generated:\n",
        "                manually_created_transcripts.append(transcript)\n",
        "            else:\n",
        "                generated_transcripts.append(transcript)\n",
        "\n",
        "        # Try manually created transcripts first\n",
        "        for transcript in manually_created_transcripts:\n",
        "            try:\n",
        "                transcript_data = transcript.fetch()\n",
        "                transcript_text = ' '.join([t['text'] for t in transcript_data])\n",
        "                return transcript_text\n",
        "            except Exception:\n",
        "                continue  # Try next transcript\n",
        "\n",
        "        # If no manually created transcripts, try generated transcripts\n",
        "        for transcript in generated_transcripts:\n",
        "            try:\n",
        "                transcript_data = transcript.fetch()\n",
        "                transcript_text = ' '.join([t['text'] for t in transcript_data])\n",
        "                return transcript_text\n",
        "            except Exception:\n",
        "                continue  # Try next transcript\n",
        "\n",
        "        # No transcripts found\n",
        "        return None\n",
        "    except (NoTranscriptFound, TranscriptsDisabled, VideoUnavailable):\n",
        "        # Subtitles not available or video is unavailable\n",
        "        return None\n",
        "    except Exception as e:\n",
        "        # Other exceptions\n",
        "        print(f\"An error occurred: {e}\")\n",
        "        return None\n"
      ],
      "metadata": {
        "id": "vYpVDoHNnwaR"
      },
      "execution_count": 44,
      "outputs": []
    },
    {
      "cell_type": "code",
      "source": [
        "# Function to transcribe audio from YouTube URL\n",
        "def audio_transcriber_tool(url: str) -> str:\n",
        "    \"\"\"\n",
        "    Extracts audio and transcribes it from a YouTube video given its URL.\n",
        "\n",
        "    Parameters:\n",
        "    - url (str): The URL of the YouTube video.\n",
        "\n",
        "    Returns:\n",
        "    str: The transcribed text from the YouTube audio.\n",
        "    \"\"\"\n",
        "    try:\n",
        "        # Use yt-dlp to download the audio from the YouTube video\n",
        "        ydl_opts = {\n",
        "            'format': 'bestaudio/best',  # Download the best available audio\n",
        "            'postprocessors': [{\n",
        "                'key': 'FFmpegExtractAudio',\n",
        "                'preferredcodec': 'mp3',  # Extract as mp3\n",
        "                'preferredquality': '192',  # Audio quality\n",
        "            }],\n",
        "            'outtmpl': 'audio_file.%(ext)s',  # Output filename with extension\n",
        "            'quiet': True,  # Suppress console output\n",
        "        }\n",
        "\n",
        "        with yt_dlp.YoutubeDL(ydl_opts) as ydl:\n",
        "            ydl.download([url])  # Download the audio from the URL\n",
        "\n",
        "        # Find the downloaded audio file (assuming mp3 extension)\n",
        "        audio_file = \"audio_file.mp3\"\n",
        "\n",
        "        # Load the Whisper model (small model for faster transcription)\n",
        "        whisper_model = whisper.load_model(\"small\")\n",
        "\n",
        "        # Transcribe the downloaded audio file\n",
        "        result = whisper_model.transcribe(audio_file)\n",
        "\n",
        "        # Clean up the audio file after transcription\n",
        "        os.remove(audio_file)\n",
        "\n",
        "        return result[\"text\"]\n",
        "    except Exception as e:\n",
        "        return f\"Error downloading or transcribing audio: {e}\"\n",
        "\n",
        "# Function to process podcast video using OpenAI (if needed)\n",
        "def process_transcription(transcription: str, openai_api_key: str):\n",
        "    \"\"\"\n",
        "    Uses OpenAI GPT model to summarize the transcription and extract insights.\n",
        "\n",
        "    Parameters:\n",
        "    - transcription (str): The transcription text from Whisper.\n",
        "    - openai_api_key (str): The OpenAI API key.\n",
        "\n",
        "    Returns:\n",
        "    str: The summarized output.\n",
        "    \"\"\"\n",
        "    openai.api_key = openai_api_key\n",
        "    response = openai.Completion.create(\n",
        "      model=\"gpt-3.5-turbo\",\n",
        "      prompt=f\"Summarize this podcast transcription:\\n{transcription}\",\n",
        "      temperature=0.5,\n",
        "      max_tokens=500\n",
        "    )\n",
        "    return response.choices[0].text.strip()"
      ],
      "metadata": {
        "id": "8K4YJRE-fY2T"
      },
      "execution_count": 45,
      "outputs": []
    },
    {
      "cell_type": "code",
      "source": [
        "# Optional for debugging purposes, checking whether the video has subtitles available\n",
        "!yt-dlp --list-subs https://www.youtube.com/watch?v=5h0iq1NqpCo"
      ],
      "metadata": {
        "id": "X2yTV3cWoeSR"
      },
      "execution_count": null,
      "outputs": []
    },
    {
      "cell_type": "code",
      "source": [
        "# Example Usage\n",
        "youtube_url = input(\"Enter the YouTube URL of the podcast you want to analyze: \")\n",
        "#youtube_url = \"https://www.youtube.com/watch?v=zJgHbifIx-Q\"\n",
        "#youtube_url = \"https://www.youtube.com/watch?v=5h0iq1NqpCo\"\n",
        "\n",
        "# Step 1: Check if subtitles are available\n",
        "print(\"Checking for available subtitles...\")\n",
        "transcription = get_youtube_transcription(youtube_url)\n",
        "\n",
        "if transcription:\n",
        "    print(\"Using YouTube subtitles for transcription.\")\n",
        "else:\n",
        "    print(\"No subtitles found, using Whisper for transcription.\")"
      ],
      "metadata": {
        "colab": {
          "base_uri": "https://localhost:8080/"
        },
        "id": "MLbXT-9dfY8I",
        "outputId": "b7d0e25d-ad32-4fae-d138-3239474677f3"
      },
      "execution_count": 46,
      "outputs": [
        {
          "output_type": "stream",
          "name": "stdout",
          "text": [
            "Checking for available subtitles...\n",
            "Using YouTube subtitles for transcription.\n"
          ]
        }
      ]
    },
    {
      "cell_type": "code",
      "source": [
        "# Step 2: If no subtitles, fall back to Whisper transcription\n",
        "if not transcription:\n",
        "    start_time = time.time()\n",
        "    transcription = audio_transcriber_tool(youtube_url)\n",
        "\n",
        "    elapsed_time = time.time() - start_time\n",
        "    print(f\"Transcription completed in {elapsed_time:.2f} seconds.\\n\")\n",
        "\n",
        "# Display the transcription\n",
        "print(\"Transcription:\\n\")\n",
        "print(transcription)"
      ],
      "metadata": {
        "id": "L3RpliWfl_4g"
      },
      "execution_count": null,
      "outputs": []
    },
    {
      "cell_type": "code",
      "source": [
        "# Step 2: Process transcription with OpenAI (if you want summarization)\n",
        "openai_api_key = input(\"Enter your OpenAI API key: \")\n",
        "\n",
        "print(\"\\nProcessing transcription with OpenAI...\\n\")\n",
        "summary = process_transcription(transcription, openai_api_key)\n",
        "\n",
        "# Display the summary\n",
        "print(\"Summary:\\n\")\n",
        "print(summary)"
      ],
      "metadata": {
        "id": "ihiw8rf3fY-o"
      },
      "execution_count": null,
      "outputs": []
    }
  ]
}